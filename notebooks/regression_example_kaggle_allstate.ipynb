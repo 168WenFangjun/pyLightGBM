{
 "cells": [
  {
   "cell_type": "markdown",
   "metadata": {},
   "source": [
    "# <font color=\"#FE2E64\">pyLigthGBM</font>  \n",
    "\n",
    "<font color=\"#6E6E6E\">Python wrapper for Microsoft </font> [LightGBM](https://github.com/Microsoft/LightGBM)\n",
    "\n",
    "**<font color=\"#6E6E6E\">GitHub      : </font> [https://github.com/ArdalanM/pyLightGBM](https://github.com/ArdalanM/pyLightGBM) **\n",
    "\n",
    "---\n"
   ]
  },
  {
   "cell_type": "code",
   "execution_count": 1,
   "metadata": {
    "collapsed": true
   },
   "outputs": [],
   "source": [
    "import os, gc\n",
    "import numpy as np\n",
    "import pandas as pd\n",
    "\n",
    "from sklearn import datasets, metrics, model_selection\n",
    "from sklearn.preprocessing import LabelEncoder\n",
    "\n",
    "from pylightgbm.models import GBMRegressor"
   ]
  },
  {
   "cell_type": "markdown",
   "metadata": {},
   "source": [
    "### <font color=\"#6E6E6E\">DATA</font>\n",
    "\n",
    "For this example used data from Kaggle competition _Allstate Claims Severity_  \n",
    "You can download data from from Kaggle website : https://www.kaggle.com/c/allstate-claims-severity/data"
   ]
  },
  {
   "cell_type": "code",
   "execution_count": 2,
   "metadata": {
    "collapsed": false
   },
   "outputs": [
    {
     "name": "stdout",
     "output_type": "stream",
     "text": [
      "Train data shape (188318, 132)\n",
      "Test data shape (125546, 131)\n"
     ]
    }
   ],
   "source": [
    "df_train = pd.read_csv(\"data/train.csv.zip\")\n",
    "print('Train data shape', df_train.shape)\n",
    "\n",
    "df_test = pd.read_csv(\"data/test.csv.zip\")\n",
    "print('Test data shape', df_test.shape)"
   ]
  },
  {
   "cell_type": "markdown",
   "metadata": {},
   "source": [
    "Extracting `loss` from train and `id` from test"
   ]
  },
  {
   "cell_type": "code",
   "execution_count": 3,
   "metadata": {
    "collapsed": true
   },
   "outputs": [],
   "source": [
    "y = np.log(df_train['loss']+1).as_matrix().astype(np.float)\n",
    "id_test = np.array(df_test['id'])"
   ]
  },
  {
   "cell_type": "markdown",
   "metadata": {},
   "source": [
    "Merging train and test data"
   ]
  },
  {
   "cell_type": "code",
   "execution_count": 4,
   "metadata": {
    "collapsed": false
   },
   "outputs": [
    {
     "name": "stdout",
     "output_type": "stream",
     "text": [
      "Merged data shape (313864, 132)\n"
     ]
    }
   ],
   "source": [
    "df = df_train.append(df_test, ignore_index=True)\n",
    "del df_test, df_train\n",
    "gc.collect()\n",
    "\n",
    "print('Merged data shape', df.shape)"
   ]
  },
  {
   "cell_type": "markdown",
   "metadata": {},
   "source": [
    "Droping not useful columns"
   ]
  },
  {
   "cell_type": "code",
   "execution_count": 5,
   "metadata": {
    "collapsed": true
   },
   "outputs": [],
   "source": [
    "df.drop(labels=['loss', 'id'], axis=1, inplace=True)"
   ]
  },
  {
   "cell_type": "markdown",
   "metadata": {},
   "source": [
    "Transfrom categorical features `cat` from 1 to 116"
   ]
  },
  {
   "cell_type": "code",
   "execution_count": 6,
   "metadata": {
    "collapsed": false
   },
   "outputs": [],
   "source": [
    "le = LabelEncoder()\n",
    "\n",
    "for col in df.columns.tolist():\n",
    "    if 'cat' in col:\n",
    "        df[col] = le.fit_transform(df[col])"
   ]
  },
  {
   "cell_type": "markdown",
   "metadata": {},
   "source": [
    "### <font color=\"#6E6E6E\">TRAIN, VALIDATION, TEST</font>\n",
    "Split data into train, validation(for early stopping) and test set"
   ]
  },
  {
   "cell_type": "code",
   "execution_count": 7,
   "metadata": {
    "collapsed": false
   },
   "outputs": [
    {
     "name": "stdout",
     "output_type": "stream",
     "text": [
      "train-test split\n",
      "train-validation split\n",
      "\n",
      "Train shape (150654, 130)\n",
      "Validation shape (37664, 130)\n",
      "Test shape (125546, 130)\n"
     ]
    }
   ],
   "source": [
    "print('train-test split')\n",
    "df_train, df_test = df.iloc[:len(y)], df.iloc[len(y):]\n",
    "del df\n",
    "gc.collect()\n",
    "\n",
    "print('train-validation split\\n')\n",
    "X = df_train.as_matrix()\n",
    "X_train, X_valid, y_train, y_valid = model_selection.train_test_split(X, y, test_size=0.2, random_state=42)\n",
    "X_test = df_test.as_matrix()\n",
    "\n",
    "del df_train, df_test\n",
    "gc.collect()\n",
    "\n",
    "print('Train shape', X_train.shape)\n",
    "print('Validation shape', X_valid.shape)\n",
    "print('Test shape', X_test.shape)"
   ]
  },
  {
   "cell_type": "markdown",
   "metadata": {},
   "source": [
    "### <font color=\"#6E6E6E\">TRAINING GBMRegressor</font>\n",
    "List of parameters and their explanation you can find here https://github.com/Microsoft/LightGBM/wiki/Quick-Start\n",
    "\n",
    "**don't forget to change `exec_path` here**"
   ]
  },
  {
   "cell_type": "code",
   "execution_count": 8,
   "metadata": {
    "collapsed": false
   },
   "outputs": [
    {
     "name": "stdout",
     "output_type": "stream",
     "text": [
      "Mean Square Error:  1147.4800858\n"
     ]
    }
   ],
   "source": [
    "seed = 42\n",
    "\n",
    "gbmr = GBMRegressor(\n",
    "    exec_path='path/to/LighGBM/lightgbm', # change this to your LighGBM path\n",
    "    config='',\n",
    "    application='regression',\n",
    "    num_iterations=500,\n",
    "    learning_rate=0.1,\n",
    "    num_leaves=10,\n",
    "    tree_learner='serial',\n",
    "    num_threads=4,\n",
    "    min_data_in_leaf=10,\n",
    "    metric='l2',\n",
    "    feature_fraction=1.0,\n",
    "    feature_fraction_seed=seed,\n",
    "    bagging_fraction=1.0,\n",
    "    bagging_freq=0,\n",
    "    bagging_seed=seed,\n",
    "    metric_freq=1,\n",
    "    early_stopping_round=10\n",
    ")\n",
    "\n",
    "gbmr.fit(X_train, y_train, test_data=[(X_valid, y_valid)])\n",
    "print(\"Mean Square Error: \", metrics.mean_absolute_error(y_true=(np.exp(y_valid)-1), y_pred=(np.exp(gbmr.predict(X_valid))-1)))"
   ]
  },
  {
   "cell_type": "markdown",
   "metadata": {},
   "source": [
    "Predicting Test set"
   ]
  },
  {
   "cell_type": "code",
   "execution_count": 9,
   "metadata": {
    "collapsed": true
   },
   "outputs": [],
   "source": [
    "y_test_preds = gbmr.predict(X_test)\n",
    "y_test_preds=(np.exp(y_test_preds)-1)"
   ]
  },
  {
   "cell_type": "markdown",
   "metadata": {},
   "source": [
    "Make submission file"
   ]
  },
  {
   "cell_type": "code",
   "execution_count": 10,
   "metadata": {
    "collapsed": true
   },
   "outputs": [],
   "source": [
    "df_submision = pd.read_csv('data/sample_submission.csv.zip')\n",
    "df_submision['loss'] = y_test_preds"
   ]
  },
  {
   "cell_type": "markdown",
   "metadata": {},
   "source": [
    "Save submission file"
   ]
  },
  {
   "cell_type": "code",
   "execution_count": 11,
   "metadata": {
    "collapsed": true
   },
   "outputs": [],
   "source": [
    "df_submision.to_csv('submission.csv',index=False)"
   ]
  },
  {
   "cell_type": "markdown",
   "metadata": {},
   "source": [
    "#### This submision file scored 1138.06444 on LB"
   ]
  }
 ],
 "metadata": {
  "kernelspec": {
   "display_name": "Python 3",
   "language": "python",
   "name": "python3"
  },
  "language_info": {
   "codemirror_mode": {
    "name": "ipython",
    "version": 3
   },
   "file_extension": ".py",
   "mimetype": "text/x-python",
   "name": "python",
   "nbconvert_exporter": "python",
   "pygments_lexer": "ipython3",
   "version": "3.4.3"
  }
 },
 "nbformat": 4,
 "nbformat_minor": 1
}
